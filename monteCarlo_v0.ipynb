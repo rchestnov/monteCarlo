{
 "cells": [
  {
   "cell_type": "code",
   "execution_count": 1,
   "id": "19d56aab",
   "metadata": {},
   "outputs": [],
   "source": [
    "import pandas as pd \n",
    "import numpy as np\n",
    "import matplotlib.pyplot as plt\n",
    "import seaborn as sns\n",
    "from tqdm.notebook import tqdm"
   ]
  },
  {
   "cell_type": "code",
   "execution_count": 2,
   "id": "347d918e",
   "metadata": {},
   "outputs": [],
   "source": [
    "def founderShareValue(pShare, dLockup, pSuccess, dDilution):\n",
    "    return pShare * (1 - dLockup) * pSuccess * (1 - dDilution)"
   ]
  },
  {
   "cell_type": "code",
   "execution_count": 3,
   "id": "e3ee39e9",
   "metadata": {},
   "outputs": [
    {
     "name": "stdout",
     "output_type": "stream",
     "text": [
      "Example (I assume that corresponding parameters are uniformly distributed):\n",
      "\n",
      "P_share: 10.0\n",
      "D_lockup: 0.262303\n",
      "P_success: 0.794349\n",
      "D_dilution: 0.037628\n",
      "\n",
      "Founder Share Value: 5.639392\n"
     ]
    }
   ],
   "source": [
    "pShare = 10.0\n",
    "dLockup = np.random.uniform(0.250, 0.275)\n",
    "pSuccess = np.random.uniform(0.75, 0.80)\n",
    "dDilution = np.random.uniform(0.00, 0.10)\n",
    "\n",
    "print(\"Example (I assume that corresponding parameters are uniformly distributed):\\n\")\n",
    "print(f\"P_share: {pShare}\")\n",
    "print(f\"D_lockup: {dLockup:.6f}\")\n",
    "print(f\"P_success: {pSuccess:.6f}\")\n",
    "print(f\"D_dilution: {dDilution:.6f}\\n\")\n",
    "print(f\"Founder Share Value: {founderShareValue(pShare, dLockup, pSuccess, dDilution):.6f}\")"
   ]
  },
  {
   "cell_type": "code",
   "execution_count": 4,
   "id": "22b2f07b",
   "metadata": {},
   "outputs": [],
   "source": [
    "def monteCarlo(dLockupDistributionRangePct, pSuccessDistributionRangePct, dDilutionDistributionRangePct, numberOfSimulations):\n",
    "    \n",
    "    shareValueSeries = pd.DataFrame(columns = ['pShare', 'dLockup', 'pSuccess', 'dDilution', 'founderShareValue'])\n",
    "    \n",
    "    for i in tqdm(range(numberOfSimulations)):\n",
    "        \n",
    "        pShare = 10.0\n",
    "        dLockup = np.random.uniform(dLockupDistributionRangePct[0] / 100, dLockupDistributionRangePct[1] / 100)\n",
    "        pSuccess = np.random.uniform(pSuccessDistributionRangePct[0] / 100, pSuccessDistributionRangePct[1] / 100)\n",
    "        dDilution = np.random.uniform(dDilutionDistributionRangePct[0] / 100, dDilutionDistributionRangePct[1] / 100)\n",
    "\n",
    "        shareValueSeries.loc[i] = [pShare, dLockup, pSuccess, dDilution, founderShareValue(pShare, dLockup, pSuccess, dDilution)]\n",
    "        \n",
    "    return shareValueSeries"
   ]
  },
  {
   "cell_type": "code",
   "execution_count": 5,
   "id": "fd4464b8",
   "metadata": {},
   "outputs": [
    {
     "data": {
      "application/vnd.jupyter.widget-view+json": {
       "model_id": "77dd8b83c0fe4448a78b0611b003a56e",
       "version_major": 2,
       "version_minor": 0
      },
      "text/plain": [
       "  0%|          | 0/200000 [00:00<?, ?it/s]"
      ]
     },
     "metadata": {},
     "output_type": "display_data"
    }
   ],
   "source": [
    "# Set simulation parameters here\n",
    "\n",
    "simulationData = monteCarlo(\n",
    "    dLockupDistributionRangePct = [25.0, 27.5],\n",
    "    pSuccessDistributionRangePct = [75.0, 80.0],\n",
    "    dDilutionDistributionRangePct = [0.0, 10.0],\n",
    "    numberOfSimulations = 200000\n",
    ")"
   ]
  },
  {
   "cell_type": "code",
   "execution_count": 6,
   "id": "007bae03",
   "metadata": {},
   "outputs": [
    {
     "data": {
      "text/html": [
       "<div>\n",
       "<style scoped>\n",
       "    .dataframe tbody tr th:only-of-type {\n",
       "        vertical-align: middle;\n",
       "    }\n",
       "\n",
       "    .dataframe tbody tr th {\n",
       "        vertical-align: top;\n",
       "    }\n",
       "\n",
       "    .dataframe thead th {\n",
       "        text-align: right;\n",
       "    }\n",
       "</style>\n",
       "<table border=\"1\" class=\"dataframe\">\n",
       "  <thead>\n",
       "    <tr style=\"text-align: right;\">\n",
       "      <th></th>\n",
       "      <th>pShare</th>\n",
       "      <th>dLockup</th>\n",
       "      <th>pSuccess</th>\n",
       "      <th>dDilution</th>\n",
       "      <th>founderShareValue</th>\n",
       "    </tr>\n",
       "  </thead>\n",
       "  <tbody>\n",
       "    <tr>\n",
       "      <th>0</th>\n",
       "      <td>10.0</td>\n",
       "      <td>0.253134</td>\n",
       "      <td>0.765529</td>\n",
       "      <td>0.061033</td>\n",
       "      <td>5.368518</td>\n",
       "    </tr>\n",
       "    <tr>\n",
       "      <th>1</th>\n",
       "      <td>10.0</td>\n",
       "      <td>0.251984</td>\n",
       "      <td>0.799746</td>\n",
       "      <td>0.007098</td>\n",
       "      <td>5.939763</td>\n",
       "    </tr>\n",
       "    <tr>\n",
       "      <th>2</th>\n",
       "      <td>10.0</td>\n",
       "      <td>0.264315</td>\n",
       "      <td>0.750084</td>\n",
       "      <td>0.028707</td>\n",
       "      <td>5.359841</td>\n",
       "    </tr>\n",
       "    <tr>\n",
       "      <th>3</th>\n",
       "      <td>10.0</td>\n",
       "      <td>0.267266</td>\n",
       "      <td>0.792275</td>\n",
       "      <td>0.091271</td>\n",
       "      <td>5.275417</td>\n",
       "    </tr>\n",
       "    <tr>\n",
       "      <th>4</th>\n",
       "      <td>10.0</td>\n",
       "      <td>0.260507</td>\n",
       "      <td>0.758418</td>\n",
       "      <td>0.093192</td>\n",
       "      <td>5.085786</td>\n",
       "    </tr>\n",
       "  </tbody>\n",
       "</table>\n",
       "</div>"
      ],
      "text/plain": [
       "   pShare   dLockup  pSuccess  dDilution  founderShareValue\n",
       "0    10.0  0.253134  0.765529   0.061033           5.368518\n",
       "1    10.0  0.251984  0.799746   0.007098           5.939763\n",
       "2    10.0  0.264315  0.750084   0.028707           5.359841\n",
       "3    10.0  0.267266  0.792275   0.091271           5.275417\n",
       "4    10.0  0.260507  0.758418   0.093192           5.085786"
      ]
     },
     "execution_count": 6,
     "metadata": {},
     "output_type": "execute_result"
    }
   ],
   "source": [
    "simulationData.head()"
   ]
  },
  {
   "cell_type": "code",
   "execution_count": 7,
   "id": "bc6087d5",
   "metadata": {},
   "outputs": [
    {
     "data": {
      "image/png": "[encoded data removed]",
      "text/plain": [
       "<Figure size 2000x700 with 1 Axes>"
      ]
     },
     "metadata": {},
     "output_type": "display_data"
    }
   ],
   "source": [
    "plt.figure(figsize = (20, 7))\n",
    "sns.histplot(simulationData['founderShareValue'], bins = 100, color = \"#007E76\", alpha = 0.5, zorder = 2, linewidth = 0.5)\n",
    "plt.grid(color = \"lightgray\", linewidth = 0.5)\n",
    "plt.show()"
   ]
  },
  {
   "cell_type": "code",
   "execution_count": 8,
   "id": "34abe1ee",
   "metadata": {},
   "outputs": [
    {
     "name": "stdout",
     "output_type": "stream",
     "text": [
      "Some stats for Founder Share Value:\n",
      "\n",
      "Mean: 5.429775\n",
      "Median: 5.427488\n",
      "Standard Deviation: 0.200645\n",
      "95% Confidence Interval: [5.059596, 5.811888]\n",
      "99% Confidence Interval: [4.989204, 5.890088]\n"
     ]
    }
   ],
   "source": [
    "print(\"Some stats for Founder Share Value:\\n\")\n",
    "print(f\"Mean: {simulationData['founderShareValue'].mean():.6f}\")\n",
    "print(f\"Median: {simulationData['founderShareValue'].median():.6f}\")\n",
    "print(f\"Standard Deviation: {simulationData['founderShareValue'].std():.6f}\")\n",
    "print(f\"95% Confidence Interval: [{simulationData['founderShareValue'].quantile(0.025):.6f}, {simulationData['founderShareValue'].quantile(0.975):.6f}]\")\n",
    "print(f\"99% Confidence Interval: [{simulationData['founderShareValue'].quantile(0.005):.6f}, {simulationData['founderShareValue'].quantile(0.995):.6f}]\")"
   ]
  },
  {
   "cell_type": "code",
   "execution_count": null,
   "id": "68e4017d",
   "metadata": {},
   "outputs": [],
   "source": []
  }
 ],
 "metadata": {
  "kernelspec": {
   "display_name": "base",
   "language": "python",
   "name": "python3"
  },
  "language_info": {
   "codemirror_mode": {
    "name": "ipython",
    "version": 3
   },
   "file_extension": ".py",
   "mimetype": "text/x-python",
   "name": "python",
   "nbconvert_exporter": "python",
   "pygments_lexer": "ipython3",
   "version": "3.11.6"
  }
 },
 "nbformat": 4,
 "nbformat_minor": 5
}
